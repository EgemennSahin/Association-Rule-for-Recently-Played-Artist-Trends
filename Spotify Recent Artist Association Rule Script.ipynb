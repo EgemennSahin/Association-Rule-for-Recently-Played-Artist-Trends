{
 "cells": [
  {
   "cell_type": "markdown",
   "id": "10669cdc",
   "metadata": {},
   "source": [
    "# Analyse artist relations in recently played Spotify tracks\n",
    "\n",
    "email: egemen.sahin.23@dartmouth.edu\n",
    "\n",
    "---"
   ]
  },
  {
   "cell_type": "code",
   "execution_count": null,
   "id": "ac0f2a6d",
   "metadata": {},
   "outputs": [],
   "source": [
    "import spotipy\n",
    "from spotipy.oauth2 import SpotifyOAuth\n",
    "import pandas as pd"
   ]
  },
  {
   "cell_type": "markdown",
   "id": "12cb4fc6",
   "metadata": {},
   "source": [
    "## 1.Data Gathering and Pre-processing\n",
    "---"
   ]
  },
  {
   "cell_type": "markdown",
   "id": "d4862423",
   "metadata": {},
   "source": [
    "### 1. Initializing Spotify API's environment variables\n",
    "\n",
    "Find your environment variables in your app [here](https://developer.spotify.com/dashboard/applications/)\n",
    "\n",
    "Spotify Object *sp* handles all calls from the Spotify API."
   ]
  },
  {
   "cell_type": "code",
   "execution_count": null,
   "id": "8edde4be",
   "metadata": {},
   "outputs": [],
   "source": [
    "SPOTIPY_CLIENT_ID = 'your-client-id'\n",
    "SPOTIPY_CLIENT_SECRET = 'your-client-secret'\n",
    "SPOTIPY_REDIRECT_URI = 'http://localhost/'\n",
    "SCOPE = \"user-read-recently-played\"\n",
    "\n",
    "sp = spotipy.Spotify(\n",
    "    auth_manager=SpotifyOAuth(\n",
    "        client_id=SPOTIPY_CLIENT_ID, \n",
    "        client_secret=SPOTIPY_CLIENT_SECRET, \n",
    "        redirect_uri=SPOTIPY_REDIRECT_URI, scope=SCOPE\n",
    "    ),\n",
    "    requests_timeout=5,\n",
    ")"
   ]
  },
  {
   "cell_type": "markdown",
   "id": "e5eef3ac",
   "metadata": {},
   "source": [
    "### 2. Retrieving the $N$ recently played tracks\n",
    "\n",
    "$N \\leq 50$ according to [Spotify Documentation](https://developer.spotify.com/documentation/web-api/reference/#/operations/get-recently-played)"
   ]
  },
  {
   "cell_type": "code",
   "execution_count": null,
   "id": "d00df510",
   "metadata": {},
   "outputs": [],
   "source": [
    "N = 50\n",
    "\n",
    "recent_tracks = sp.current_user_recently_played(limit=N)\n",
    "\n",
    "# Preview the data\n",
    "recent_tracks['items'][0]"
   ]
  },
  {
   "cell_type": "markdown",
   "id": "2f27be29",
   "metadata": {},
   "source": [
    "### 3. Extracting data about the song's artist's name\n",
    "\n",
    "recent_tracks is already ordered from Spotify, so the played_at value for each song is not needed.\n",
    "\n",
    "$i = 0$ as the data only retains information about the main artist"
   ]
  },
  {
   "cell_type": "code",
   "execution_count": null,
   "id": "1e829a4b",
   "metadata": {},
   "outputs": [],
   "source": [
    "i = 0\n",
    "data = []\n",
    "\n",
    "for song in recent_tracks['items']:\n",
    "    data.append([song['track']['album']['artists'][i]['name']])\n",
    "    \n",
    "# Preview the data\n",
    "data"
   ]
  },
  {
   "cell_type": "markdown",
   "id": "49b2c751",
   "metadata": {},
   "source": [
    "### 4. Appending the artist of the next song to each song's artist\n",
    "\n",
    "In the association rule which is used later, the antecedent (Artist A) cannot be equal to consequent (Artist A), so to avoid this issue, return a custom value *same_artist = SAME ARTIST* when antecedent = consequent, retaining information about same artist transitions (Artist A &rarr; Artist A).\n",
    "\n",
    "For the most recently played song, since there is no next song, remove it from the dataset."
   ]
  },
  {
   "cell_type": "code",
   "execution_count": null,
   "id": "12458eba",
   "metadata": {},
   "outputs": [],
   "source": [
    "same_artist = 'SAME ARTIST'\n",
    "\n",
    "for i in range(1, len(data)):\n",
    "    if (data[i][0] == data[i-1][0]):\n",
    "        data[i] = [data[i][0], same_artist]\n",
    "    else:\n",
    "        data[i]= [data[i][0], data[i-1][0]]\n",
    "\n",
    "if (len(data[0]) == 1):\n",
    "    del data[0]\n",
    "\n",
    "# Preview the data\n",
    "data"
   ]
  },
  {
   "cell_type": "markdown",
   "id": "292e6713",
   "metadata": {},
   "source": [
    "### 5. Encoding the data for each artist transition"
   ]
  },
  {
   "cell_type": "code",
   "execution_count": null,
   "id": "b8f3b956",
   "metadata": {},
   "outputs": [],
   "source": [
    "from mlxtend.preprocessing import TransactionEncoder\n",
    "\n",
    "te = TransactionEncoder()\n",
    "te_array = te.fit(data).transform(data)\n",
    "\n",
    "# Preview the data\n",
    "te_array"
   ]
  },
  {
   "cell_type": "markdown",
   "id": "9286042b",
   "metadata": {},
   "source": [
    "### 6. Converting the encoded data into a pandas DataFrame\n",
    "\n",
    "Retain information about artist name through *columns = te.columns_*."
   ]
  },
  {
   "cell_type": "code",
   "execution_count": null,
   "id": "6d7fdb76",
   "metadata": {},
   "outputs": [],
   "source": [
    "df = pd.DataFrame(te_array, columns = te.columns_)\n",
    "\n",
    "# Preview the data\n",
    "df"
   ]
  },
  {
   "cell_type": "markdown",
   "id": "f05d6cdf",
   "metadata": {},
   "source": [
    "## 2. Data Analysis\n",
    "---"
   ]
  },
  {
   "cell_type": "markdown",
   "id": "2c4fadb3",
   "metadata": {},
   "source": [
    "### 1. Extracting the frequent artist transitions\n",
    "\n",
    "Return the transitions that have a minimum support of *m_s = 0.01*."
   ]
  },
  {
   "cell_type": "code",
   "execution_count": null,
   "id": "b439482b",
   "metadata": {},
   "outputs": [],
   "source": [
    "from mlxtend.frequent_patterns import apriori\n",
    "\n",
    "m_s = 0.01\n",
    "\n",
    "frequent_transitions = apriori(df, min_support = m_s, use_colnames = True)\n",
    "\n",
    "# Preview the data\n",
    "frequent_transitions"
   ]
  },
  {
   "cell_type": "markdown",
   "id": "227d41e5",
   "metadata": {},
   "source": [
    "### 2. Finding the association rules (Artist A &rarr; Artist B)\n",
    "\n",
    "Return the list of artist transitions with a minimum confidence of *m_c = 0.25*, and a minimum lift of *m_l = 1*."
   ]
  },
  {
   "cell_type": "code",
   "execution_count": null,
   "id": "3729a23e",
   "metadata": {},
   "outputs": [],
   "source": [
    "from mlxtend.frequent_patterns import association_rules\n",
    "\n",
    "m_c = 0.25\n",
    "m_l = 1\n",
    "\n",
    "rules = association_rules(frequent_transitions, metric = 'confidence', min_threshold = m_t)\n",
    "rules = rules[rules['lift'] >= m_l]"
   ]
  },
  {
   "cell_type": "markdown",
   "id": "e56714d7",
   "metadata": {},
   "source": [
    "### 3. Tidying up and formatting the dataframe\n",
    "\n",
    "Exclude data where *antecedent = same_artist* as information about changing artists after listening to the same artist in a loop is not important for the task at hand.\n",
    "\n",
    "Replace the *same_artist* string with artist's name."
   ]
  },
  {
   "cell_type": "code",
   "execution_count": null,
   "id": "63c0f1d6",
   "metadata": {},
   "outputs": [],
   "source": [
    "rules = rules[rules['antecedents'] != {same_artist}]\n",
    "rules = rules[['antecedents', 'consequents', 'support', 'confidence', 'lift']]\n",
    "\n",
    "m = rules['consequents'] == {same_artist}\n",
    "rules.loc[m, ['consequents']] = (rules.loc[m, ['antecedents']].values)\n",
    "\n",
    "# Formatting \n",
    "rules[\"antecedents\"] = rules[\"antecedents\"].apply(lambda x: ', '.join(list(x))).astype(\"unicode\")\n",
    "rules[\"consequents\"] = rules[\"consequents\"].apply(lambda x: ', '.join(list(x))).astype(\"unicode\")\n",
    "rules.rename(columns = {\"antecedents\" : \"artist\", \"consequents\": \"next artist\"}, inplace = True)\n",
    "\n",
    "# Preview the data\n",
    "\n",
    "rules"
   ]
  },
  {
   "cell_type": "markdown",
   "id": "5d6a31fd",
   "metadata": {},
   "source": [
    "### 3. Exporting the data into CSV\n",
    "\n",
    "Convert the data into a CSV for visualization in Tableau"
   ]
  },
  {
   "cell_type": "code",
   "execution_count": null,
   "id": "135745bf",
   "metadata": {},
   "outputs": [],
   "source": [
    "rules.to_csv('rules.csv')"
   ]
  },
  {
   "cell_type": "markdown",
   "id": "1425d560",
   "metadata": {},
   "source": [
    "# Shortcomings\n",
    "\n",
    "1. Low amount of data: Spotify's API only allows for the last 50 recently played songs to be pulled, heavily limiting the ability to gain insight from data (low support).\n",
    "\n",
    "2. Found trends between artists, however due to the nature of the Association Rule, A &rarr; B and B &rarr; A represent the same rule, however listening to artist B after artist A and vice versa are different. A way to work around this is having unique labels for the current and next artists (similar to the *same_artist* method in 1.4).\n",
    "\n",
    "# Possible Uses\n",
    "\n",
    "1. Recommendation algorithm: New Spotify feature that recommends recently played songs' artists to user in a new 'radio' mode. Different than current algorithms in its focus on the short term artist trends of a user."
   ]
  }
 ],
 "metadata": {
  "kernelspec": {
   "display_name": "Python 3",
   "language": "python",
   "name": "python3"
  },
  "language_info": {
   "codemirror_mode": {
    "name": "ipython",
    "version": 3
   },
   "file_extension": ".py",
   "mimetype": "text/x-python",
   "name": "python",
   "nbconvert_exporter": "python",
   "pygments_lexer": "ipython3",
   "version": "3.8.8"
  }
 },
 "nbformat": 4,
 "nbformat_minor": 5
}
