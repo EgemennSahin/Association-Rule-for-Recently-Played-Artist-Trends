{
 "cells": [
  {
   "cell_type": "code",
   "execution_count": null,
   "id": "5ce9b630",
   "metadata": {},
   "outputs": [],
   "source": [
    "# --------------------------------------------------------------------------------------\n",
    "# Scrape data about user's recently played songs from Spotify\n",
    "# \n",
    "# email: egemen.sahin.23@dartmouth.edu\n",
    "# --------------------------------------------------------------------------------------"
   ]
  },
  {
   "cell_type": "code",
   "execution_count": null,
   "id": "ac0f2a6d",
   "metadata": {},
   "outputs": [],
   "source": [
    "import requests\n",
    "import spotipy\n",
    "from spotipy.oauth2 import SpotifyOAuth\n",
    "import pandas as pd"
   ]
  },
  {
   "cell_type": "code",
   "execution_count": null,
   "id": "8edde4be",
   "metadata": {},
   "outputs": [],
   "source": [
    "# Initializing environment variables\n",
    "\n",
    "SPOTIPY_CLIENT_ID = 'your-client-id'\n",
    "SPOTIPY_CLIENT_SECRET = 'your-client-secret'\n",
    "SPOTIPY_REDIRECT_URI = 'http://localhost/'\n",
    "SCOPE = \"user-read-recently-played\""
   ]
  },
  {
   "cell_type": "code",
   "execution_count": null,
   "id": "538a9d4f",
   "metadata": {},
   "outputs": [],
   "source": [
    "# Spotify Object sp handles all calls from the API\n",
    "\n",
    "sp = spotipy.Spotify(\n",
    "    auth_manager=SpotifyOAuth(\n",
    "        client_id=SPOTIPY_CLIENT_ID, \n",
    "        client_secret=SPOTIPY_CLIENT_SECRET, \n",
    "        redirect_uri=SPOTIPY_REDIRECT_URI, scope=SCOPE\n",
    "    ),\n",
    "    requests_timeout=120,\n",
    ")"
   ]
  },
  {
   "cell_type": "code",
   "execution_count": null,
   "id": "d00df510",
   "metadata": {},
   "outputs": [],
   "source": [
    "# Retrieving the recently played 50 tracks\n",
    "\n",
    "recent_tracks = sp.current_user_recently_played(limit=50)"
   ]
  },
  {
   "cell_type": "code",
   "execution_count": null,
   "id": "1e829a4b",
   "metadata": {},
   "outputs": [],
   "source": [
    "# Creating the dataframe using the song's artist's name and the time the song was played\n",
    "# Excludes featured artists\n",
    "\n",
    "data = []\n",
    "for song in recent_tracks['items']:\n",
    "    data.append([song['track']['name'], song['played_at']])\n",
    "    \n",
    "df = pd.DataFrame(data, columns = ['track_id', 'played_at'])"
   ]
  },
  {
   "cell_type": "code",
   "execution_count": null,
   "id": "3ef17e28",
   "metadata": {},
   "outputs": [],
   "source": [
    "# Export the data to CSV for further manipulation using SQL and visualization using Tableau\n",
    "\n",
    "df.to_csv('recent_tracks.csv')"
   ]
  }
 ],
 "metadata": {
  "kernelspec": {
   "display_name": "Python 3",
   "language": "python",
   "name": "python3"
  },
  "language_info": {
   "codemirror_mode": {
    "name": "ipython",
    "version": 3
   },
   "file_extension": ".py",
   "mimetype": "text/x-python",
   "name": "python",
   "nbconvert_exporter": "python",
   "pygments_lexer": "ipython3",
   "version": "3.8.8"
  }
 },
 "nbformat": 4,
 "nbformat_minor": 5
}
